{
 "cells": [
  {
   "cell_type": "code",
   "execution_count": 38,
   "metadata": {},
   "outputs": [],
   "source": [
    "import json\n",
    "import datetime\n",
    "import enum\n",
    "import os\n",
    "import shutil\n",
    "from dateutil import parser"
   ]
  },
  {
   "cell_type": "code",
   "execution_count": 39,
   "metadata": {},
   "outputs": [],
   "source": [
    "class Category(enum.Enum):\n",
    "  PYTHON = object()\n",
    "  JAVASCRIPT = object()\n",
    "  JAVA = object()\n",
    "\n",
    "  def __str__(self):\n",
    "    return self.name.title()\n",
    "  \n",
    "  def __repr__(self):\n",
    "    return self.__str__()"
   ]
  },
  {
   "cell_type": "code",
   "execution_count": 40,
   "metadata": {},
   "outputs": [],
   "source": [
    "class Section(enum.Enum):\n",
    "  DATA_SCIENCE = object()\n",
    "  DATA_ENGINEERING = object()\n",
    "  APPS = object()\n",
    "  MINECRAFT = object()\n",
    "  MUSIC = object()\n",
    "\n",
    "  def __str__(self):\n",
    "    return self.name.title().replace(\"_\", \" \")\n",
    "  \n",
    "  def __repr__(self):\n",
    "    return self.__str__()"
   ]
  },
  {
   "cell_type": "code",
   "execution_count": 41,
   "metadata": {},
   "outputs": [
    {
     "name": "stdout",
     "output_type": "stream",
     "text": [
      "Data Science\n"
     ]
    }
   ],
   "source": [
    "print(Section.DATA_SCIENCE)"
   ]
  },
  {
   "cell_type": "code",
   "execution_count": 42,
   "metadata": {},
   "outputs": [],
   "source": [
    "class ProjectItem:\n",
    "  def __init__(self):\n",
    "    self.prop = {}\n",
    "    self.assertions = {}\n",
    "    self.add(\"title\", \"\")\n",
    "    self.add(\"date\", datetime.datetime.now().date(), datetime.datetime)\n",
    "    self.add(\"category\", Category.PYTHON, Category)\n",
    "    self.add(\"section\", Section.DATA_SCIENCE, Section)\n",
    "    self.add(\"description\", \"\")\n",
    "    self.add(\"scope\", \"\")\n",
    "    self.add(\"hash\", \"\")\n",
    "\n",
    "  def add(self, prop, defValue = None, assertion = None):\n",
    "    self.prop[prop] = defValue\n",
    "    self.assertions[prop] = assertion\n",
    "    setattr(self.__class__, prop, lambda s, x: s.set(prop, x))\n",
    "  \n",
    "  def set(self, prop, value):\n",
    "    if self.assertions[prop] is not None:\n",
    "      assert isinstance(value, self.assertions[prop]), f\"{prop} must be of type {self.assertions[prop]}\"\n",
    "    self.prop[prop] = value\n",
    "    return self\n",
    "\n",
    "  def build(self, directory=None):\n",
    "    import hashlib\n",
    "    h = hashlib.md5(self.prop[\"title\"].encode()).hexdigest()\n",
    "    self.set(\"hash\", h)\n",
    "    if directory:\n",
    "      d = os.path.join(directory, h)\n",
    "      if not os.path.exists(d):\n",
    "        os.mkdir(d)\n",
    "        shutil.copy('./def.jpg', os.path.join(d, \"thumbnail.jpg\"))\n",
    "        with open(os.path.join(d, \"content.md\"), \"w\") as f:\n",
    "          f.write(self.prop[\"title\"])\n",
    "          f.write(\"\\n\")\n",
    "          f.write(\"---\")\n",
    "          f.write(\"\\n\")\n",
    "          f.write(self.prop['description'])\n",
    "      \n",
    "    return self.prop\n",
    "    \n",
    "class ProjectList:\n",
    "  def __init__(self):\n",
    "    self.projs = []\n",
    "  \n",
    "  def push(self, item):\n",
    "    assert isinstance(item, ProjectItem), f\"Value passed must be instance of ProjectItem\"\n",
    "    self.projs += [item]\n",
    "    return self\n",
    "    \n",
    "  def build(self, directory=None):\n",
    "    if directory:\n",
    "      if not os.path.exists(directory):\n",
    "        os.mkdir(directory)\n",
    "    p = [i.build(directory) for i in self.projs]\n",
    "    if directory is None:\n",
    "      return json.dumps(p, indent=2, default=str)\n",
    "    json.dump(p, open(os.path.join(directory, \"projects.json\"), \"w\"), indent=2, default=str)"
   ]
  },
  {
   "cell_type": "code",
   "execution_count": 43,
   "metadata": {},
   "outputs": [],
   "source": [
    "pl = ProjectList()"
   ]
  },
  {
   "cell_type": "code",
   "execution_count": 44,
   "metadata": {},
   "outputs": [
    {
     "data": {
      "text/plain": [
       "<__main__.ProjectList at 0x7f5028ae1f50>"
      ]
     },
     "execution_count": 44,
     "metadata": {},
     "output_type": "execute_result"
    }
   ],
   "source": [
    "pl.push(ProjectItem()\n",
    "        .title(\"Portfolio\")\n",
    "        .category(Category.JAVASCRIPT)\n",
    "        .date(parser.parse(\"2020-7-12\"))\n",
    "        .section(Section.APPS)\n",
    "        .description(\"I present the structure of the web site and future features that I would like to add into my portfolio.\")\n",
    "        .scope(\"Web Design\")\n",
    "       )"
   ]
  },
  {
   "cell_type": "code",
   "execution_count": 45,
   "metadata": {},
   "outputs": [
    {
     "data": {
      "text/plain": [
       "<__main__.ProjectList at 0x7f5028ae1f50>"
      ]
     },
     "execution_count": 45,
     "metadata": {},
     "output_type": "execute_result"
    }
   ],
   "source": [
    "pl.push(ProjectItem()\n",
    "        .title(\"Minecraft Skin Analysis\")\n",
    "        .category(Category.PYTHON)\n",
    "        .date(parser.parse(\"2020-6-1\"))\n",
    "        .section(Section.DATA_SCIENCE)\n",
    "        .description(\"I used a collection of 7800 Minecraft skin image to perform clustering and deduplication that reduced down to about 3000 unique skins\")\n",
    "        .scope(\"Data Science, Image Analysis, Minecraft\")\n",
    "       )"
   ]
  },
  {
   "cell_type": "code",
   "execution_count": 46,
   "metadata": {},
   "outputs": [
    {
     "data": {
      "text/plain": [
       "<__main__.ProjectList at 0x7f5028ae1f50>"
      ]
     },
     "execution_count": 46,
     "metadata": {},
     "output_type": "execute_result"
    }
   ],
   "source": [
    "pl.push(ProjectItem()\n",
    "        .title(\"Python List Stream\")\n",
    "        .category(Category.PYTHON)\n",
    "        .date(parser.parse(\"2020-6-1\"))\n",
    "        .section(Section.DATA_ENGINEERING)\n",
    "        .description(\"Inspired by Java Streams util, I built a similar utility class that is lightweight and has less lines of code\")\n",
    "        .scope(\"Data Engineering\")\n",
    "       )"
   ]
  },
  {
   "cell_type": "code",
   "execution_count": 47,
   "metadata": {},
   "outputs": [
    {
     "data": {
      "text/plain": [
       "<__main__.ProjectList at 0x7f5028ae1f50>"
      ]
     },
     "execution_count": 47,
     "metadata": {},
     "output_type": "execute_result"
    }
   ],
   "source": [
    "pl.push(ProjectItem()\n",
    "        .title(\"Minecraft Modding Experience\")\n",
    "        .category(Category.JAVA)\n",
    "        .date(parser.parse(\"2020-5-1\"))\n",
    "        .section(Section.MINECRAFT)\n",
    "        .description(\"I really LOVE Minecraft and its simplistic yet dynamic gameplay. Here, I participated in modding Minecraft and summarises my whole experience.\")\n",
    "        .scope(\"Programming\")\n",
    "       )"
   ]
  },
  {
   "cell_type": "code",
   "execution_count": 48,
   "metadata": {},
   "outputs": [
    {
     "data": {
      "text/plain": [
       "<__main__.ProjectList at 0x7f5028ae1f50>"
      ]
     },
     "execution_count": 48,
     "metadata": {},
     "output_type": "execute_result"
    }
   ],
   "source": [
    "pl.push(ProjectItem()\n",
    "        .title(\"Animal Shelter Data Visualisation\")\n",
    "        .category(Category.JAVASCRIPT)\n",
    "        .date(parser.parse(\"2019-12-5\"))\n",
    "        .section(Section.APPS)\n",
    "        .description(\"A web visualisation application to tell the story of the animal in the shelter from their first rescue.\")\n",
    "        .scope(\"Data Visualisation, Data Cleaning\")\n",
    "       )"
   ]
  },
  {
   "cell_type": "code",
   "execution_count": 49,
   "metadata": {},
   "outputs": [
    {
     "data": {
      "text/plain": [
       "<__main__.ProjectList at 0x7f5028ae1f50>"
      ]
     },
     "execution_count": 49,
     "metadata": {},
     "output_type": "execute_result"
    }
   ],
   "source": [
    "pl.push(ProjectItem()\n",
    "        .title(\"Music Singing Voice Generation\")\n",
    "        .category(Category.JAVASCRIPT)\n",
    "        .date(parser.parse(\"2019-6-1\"))\n",
    "        .section(Section.DATA_SCIENCE)\n",
    "        .description(\"I trained a MIDI model with scale-invariant music encoding and then transformed my singing voice into MIDI for the model to generate continuation from the input.\")\n",
    "        .scope(\"Data Science\")\n",
    "       )"
   ]
  },
  {
   "cell_type": "code",
   "execution_count": 51,
   "metadata": {},
   "outputs": [
    {
     "data": {
      "text/plain": [
       "<__main__.ProjectList at 0x7f5028ae1f50>"
      ]
     },
     "execution_count": 51,
     "metadata": {},
     "output_type": "execute_result"
    }
   ],
   "source": [
    "pl.push(ProjectItem()\n",
    "        .title(\"Satellite Image Classification\")\n",
    "        .category(Category.PYTHON)\n",
    "        .date(parser.parse(\"2020-6-1\"))\n",
    "        .section(Section.DATA_SCIENCE)\n",
    "        .description(\"The classification dataset is obtained from Northwestern Polytechnical University (NWPU) that originally contains 45 classes of images. This project is an exploration to the right CNN model that is simple yet effective in classifying these images. The following image is the original classes in the dataset.\")\n",
    "        .scope(\"Data Science, Image Analysis, Minecraft\")\n",
    "       )"
   ]
  },
  {
   "cell_type": "code",
   "execution_count": 52,
   "metadata": {},
   "outputs": [],
   "source": [
    "pl.build(\"projects\")"
   ]
  }
 ],
 "metadata": {
  "kernelspec": {
   "display_name": "Python 3",
   "language": "python",
   "name": "python3"
  },
  "language_info": {
   "codemirror_mode": {
    "name": "ipython",
    "version": 3
   },
   "file_extension": ".py",
   "mimetype": "text/x-python",
   "name": "python",
   "nbconvert_exporter": "python",
   "pygments_lexer": "ipython3",
   "version": "3.7.7"
  }
 },
 "nbformat": 4,
 "nbformat_minor": 4
}
