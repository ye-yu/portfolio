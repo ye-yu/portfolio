{
 "cells": [
  {
   "cell_type": "code",
   "execution_count": 1,
   "metadata": {},
   "outputs": [],
   "source": [
    "import json\n",
    "import datetime\n",
    "import enum\n",
    "import os\n",
    "import shutil\n",
    "from dateutil import parser"
   ]
  },
  {
   "cell_type": "code",
   "execution_count": 2,
   "metadata": {},
   "outputs": [],
   "source": [
    "class Category(enum.Enum):\n",
    "  PYTHON = object()\n",
    "  JAVASCRIPT = object()\n",
    "  JAVA = object()\n",
    "\n",
    "  def __str__(self):\n",
    "    return self.name.title()\n",
    "  \n",
    "  def __repr__(self):\n",
    "    return self.__str__()"
   ]
  },
  {
   "cell_type": "code",
   "execution_count": 3,
   "metadata": {},
   "outputs": [
    {
     "data": {
      "text/plain": [
       "Java"
      ]
     },
     "execution_count": 3,
     "metadata": {},
     "output_type": "execute_result"
    }
   ],
   "source": [
    "Category.JAVA"
   ]
  },
  {
   "cell_type": "code",
   "execution_count": 4,
   "metadata": {},
   "outputs": [],
   "source": [
    "class ProjectItem:\n",
    "  def __init__(self):\n",
    "    self.prop = {}\n",
    "    self.assertions = {}\n",
    "    self.add(\"title\", \"\")\n",
    "    self.add(\"date\", datetime.datetime.now().date(), datetime.datetime)\n",
    "    self.add(\"category\", Category.PYTHON, Category)\n",
    "    self.add(\"description\", \"\")\n",
    "    self.add(\"scope\", \"\")\n",
    "    self.add(\"hash\", \"\")\n",
    "\n",
    "  def add(self, prop, defValue = None, assertion = None):\n",
    "    self.prop[prop] = defValue\n",
    "    self.assertions[prop] = assertion\n",
    "    setattr(self.__class__, prop, lambda s, x: s.set(prop, x))\n",
    "  \n",
    "  def set(self, prop, value):\n",
    "    if self.assertions[prop] is not None:\n",
    "      assert isinstance(value, self.assertions[prop]), f\"{prop} must be of type {self.assertions[prop]}\"\n",
    "    self.prop[prop] = value\n",
    "    return self\n",
    "\n",
    "  def build(self, directory=None):\n",
    "    import hashlib\n",
    "    h = hashlib.md5(self.prop[\"title\"].encode()).hexdigest()\n",
    "    self.set(\"hash\", h)\n",
    "    if directory:\n",
    "      d = os.path.join(directory, h)\n",
    "      if not os.path.exists(d):\n",
    "        os.mkdir(d)\n",
    "        shutil.copy('./def.jpg', os.path.join(d, \"thumbnail.jpg\"))\n",
    "        with open(os.path.join(d, \"content.md\"), \"w\") as f:\n",
    "          f.write(self.prop[\"title\"])\n",
    "          f.write(\"\\n\")\n",
    "          f.write(\"---\")\n",
    "          f.write(\"\\n\")\n",
    "          f.write(self.prop['description'])\n",
    "      \n",
    "    return self.prop\n",
    "    \n",
    "class ProjectList:\n",
    "  def __init__(self):\n",
    "    self.projs = []\n",
    "  \n",
    "  def push(self, item):\n",
    "    assert isinstance(item, ProjectItem), f\"Value passed must be instance of ProjectItem\"\n",
    "    self.projs += [item]\n",
    "    return self\n",
    "    \n",
    "  def build(self, directory=None):\n",
    "    if directory:\n",
    "      if not os.path.exists(directory):\n",
    "        os.mkdir(directory)\n",
    "    p = [i.build(directory) for i in self.projs]\n",
    "    if directory is None:\n",
    "      return json.dumps(p, indent=2, default=str)\n",
    "    json.dump(p, open(os.path.join(directory, \"projects.json\"), \"w\"), indent=2, default=str)"
   ]
  },
  {
   "cell_type": "code",
   "execution_count": 5,
   "metadata": {},
   "outputs": [],
   "source": [
    "pl = ProjectList()"
   ]
  },
  {
   "cell_type": "code",
   "execution_count": 6,
   "metadata": {},
   "outputs": [
    {
     "data": {
      "text/plain": [
       "<__main__.ProjectList at 0x7fc0a93f7250>"
      ]
     },
     "execution_count": 6,
     "metadata": {},
     "output_type": "execute_result"
    }
   ],
   "source": [
    "pl.push(ProjectItem()\n",
    "        .title(\"Minecraft Skin Analysis\")\n",
    "        .category(Category.PYTHON)\n",
    "        .date(parser.parse(\"2020-6-1\"))\n",
    "        .description(\"I used a collection of 7800 Minecraft skin image to perform clustering and deduplication that reduced down to about 3000 unique skins\")\n",
    "        .scope(\"Data Science, Image Analysis, Minecraft\")\n",
    "       )"
   ]
  },
  {
   "cell_type": "code",
   "execution_count": 7,
   "metadata": {},
   "outputs": [
    {
     "data": {
      "text/plain": [
       "<__main__.ProjectList at 0x7fc0a93f7250>"
      ]
     },
     "execution_count": 7,
     "metadata": {},
     "output_type": "execute_result"
    }
   ],
   "source": [
    "pl.push(ProjectItem()\n",
    "        .title(\"Python List Stream\")\n",
    "        .category(Category.PYTHON)\n",
    "        .date(parser.parse(\"2020-6-1\"))\n",
    "        .description(\"Inspired by Java Streams util, I built a similar utility class that is lightweight and has less lines of code\")\n",
    "        .scope(\"Data Engineering\")\n",
    "       )"
   ]
  },
  {
   "cell_type": "code",
   "execution_count": 8,
   "metadata": {},
   "outputs": [
    {
     "data": {
      "text/plain": [
       "<__main__.ProjectList at 0x7fc0a93f7250>"
      ]
     },
     "execution_count": 8,
     "metadata": {},
     "output_type": "execute_result"
    }
   ],
   "source": [
    "pl.push(ProjectItem()\n",
    "        .title(\"Portfolio\")\n",
    "        .category(Category.JAVASCRIPT)\n",
    "        .date(parser.parse(\"2020-6-1\"))\n",
    "        .description(\"I present the structure of the web site and future features that I would like to add into my portfolio.\")\n",
    "        .scope(\"Web Design\")\n",
    "       )"
   ]
  },
  {
   "cell_type": "code",
   "execution_count": 9,
   "metadata": {},
   "outputs": [
    {
     "data": {
      "text/plain": [
       "<__main__.ProjectList at 0x7fc0a93f7250>"
      ]
     },
     "execution_count": 9,
     "metadata": {},
     "output_type": "execute_result"
    }
   ],
   "source": [
    "pl.push(ProjectItem()\n",
    "        .title(\"Minecraft Modding Experience\")\n",
    "        .category(Category.JAVA)\n",
    "        .date(parser.parse(\"2020-6-1\"))\n",
    "        .description(\"I really LOVE Minecraft and its simplistic yet dynamic gameplay. Here, I participated in modding Minecraft and summarises my whole experience.\")\n",
    "        .scope(\"Programming\")\n",
    "       )"
   ]
  },
  {
   "cell_type": "code",
   "execution_count": 10,
   "metadata": {},
   "outputs": [
    {
     "data": {
      "text/plain": [
       "<__main__.ProjectList at 0x7fc0a93f7250>"
      ]
     },
     "execution_count": 10,
     "metadata": {},
     "output_type": "execute_result"
    }
   ],
   "source": [
    "pl.push(ProjectItem()\n",
    "        .title(\"Music Singing Voice Generation\")\n",
    "        .category(Category.JAVASCRIPT)\n",
    "        .date(parser.parse(\"2020-6-1\"))\n",
    "        .description(\"I trained a MIDI model with scale-invariant music encoding and then transformed my singing voice into MIDI for the model to generate continuation from the input.\")\n",
    "        .scope(\"Data Science\")\n",
    "       )"
   ]
  },
  {
   "cell_type": "code",
   "execution_count": 11,
   "metadata": {},
   "outputs": [
    {
     "data": {
      "text/plain": [
       "<__main__.ProjectList at 0x7fc0a93f7250>"
      ]
     },
     "execution_count": 11,
     "metadata": {},
     "output_type": "execute_result"
    }
   ],
   "source": [
    "pl.push(ProjectItem()\n",
    "        .title(\"Google Assistant Youtube Player\")\n",
    "        .category(Category.JAVASCRIPT)\n",
    "        .date(parser.parse(\"2020-6-1\"))\n",
    "        .description(\"I used PushBullet and IFTTT to fetch commands from Google Assistant and then opened a console browser to play youtube media.\")\n",
    "        .scope(\"Programming\")\n",
    "       )"
   ]
  },
  {
   "cell_type": "code",
   "execution_count": 12,
   "metadata": {},
   "outputs": [
    {
     "data": {
      "text/plain": [
       "<__main__.ProjectList at 0x7fc0a93f7250>"
      ]
     },
     "execution_count": 12,
     "metadata": {},
     "output_type": "execute_result"
    }
   ],
   "source": [
    "pl.push(ProjectItem()\n",
    "        .title(\"Satellite Image Classification\")\n",
    "        .category(Category.PYTHON)\n",
    "        .date(parser.parse(\"2020-6-1\"))\n",
    "        .description(\"The classification dataset is obtained from Northwestern Polytechnical University (NWPU) that originally contains 45 classes of images. This project is an exploration to the right CNN model that is simple yet effective in classifying these images. The following image is the original classes in the dataset.\")\n",
    "        .scope(\"Data Science, Image Analysis, Minecraft\")\n",
    "       )"
   ]
  },
  {
   "cell_type": "code",
   "execution_count": 13,
   "metadata": {},
   "outputs": [],
   "source": [
    "pl.build(\"projects\")"
   ]
  }
 ],
 "metadata": {
  "kernelspec": {
   "display_name": "Python 3",
   "language": "python",
   "name": "python3"
  },
  "language_info": {
   "codemirror_mode": {
    "name": "ipython",
    "version": 3
   },
   "file_extension": ".py",
   "mimetype": "text/x-python",
   "name": "python",
   "nbconvert_exporter": "python",
   "pygments_lexer": "ipython3",
   "version": "3.7.7"
  }
 },
 "nbformat": 4,
 "nbformat_minor": 4
}
